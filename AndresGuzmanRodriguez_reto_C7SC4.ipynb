{
  "nbformat": 4,
  "nbformat_minor": 0,
  "metadata": {
    "colab": {
      "provenance": [],
      "authorship_tag": "ABX9TyMmfOdYui5p5aeiAXnjYHZL"
    },
    "kernelspec": {
      "name": "python3",
      "display_name": "Python 3"
    },
    "language_info": {
      "name": "python"
    }
  },
  "cells": [
    {
      "cell_type": "markdown",
      "source": [
        "# Reto: Modelo basado en *deep learning* para la discriminación entre gatos y perros\n",
        "\n",
        "**Objetivos**:\n",
        "- Diseñar modelos de redes neuronales profundas (*deep learning*), enfocándose en la clasificación de imágenes de acuerdo a categrías preestablecidas para resolver problemas con relevancia social, permitiendo valor en los diversos sectores.\n",
        "- Crear modelos de datos *Deep Neural Networks* (DNN) utilizando PyTorch basado en Python; seleccionando el modelo adecuado y analizando la exactitud del modelo, para cumplir lo mejor posible con los requerimientos de la tarea requerida."
      ],
      "metadata": {
        "id": "R2TQDfs6utZk"
      }
    },
    {
      "cell_type": "markdown",
      "source": [
        "## 1. Preprocesamiento de la base de datos"
      ],
      "metadata": {
        "id": "ML5zsjCG0Bq9"
      }
    },
    {
      "cell_type": "code",
      "source": [
        "from google.colab import drive\n",
        "drive.mount('/content/drive')"
      ],
      "metadata": {
        "colab": {
          "base_uri": "https://localhost:8080/"
        },
        "id": "4GjRN_Rv0EjI",
        "outputId": "1362b99a-6cfd-48b6-b311-18fdc336fe53"
      },
      "execution_count": 1,
      "outputs": [
        {
          "output_type": "stream",
          "name": "stdout",
          "text": [
            "Mounted at /content/drive\n"
          ]
        }
      ]
    },
    {
      "cell_type": "code",
      "source": [
        "# Importando bibliotecas\n",
        "import torch\n",
        "import torch.nn as nn\n",
        "import torch.nn.functional as F\n",
        "from torchvision import datasets, transforms\n",
        "from torch.utils.data import DataLoader, random_split\n",
        "from torchsummary import summary\n",
        "from sklearn.metrics import confusion_matrix\n",
        "import matplotlib.pyplot as plt\n",
        "import numpy as np\n",
        "import pathlib"
      ],
      "metadata": {
        "id": "bgksTxl50iav"
      },
      "execution_count": 2,
      "outputs": []
    },
    {
      "cell_type": "code",
      "source": [
        "# Eliminando cualquier archivo que no sea JPG, JPEG, PNG\n",
        "!find /content/drive/MyDrive/Reto_PyTorch/catsvsdogs -type f ! -name '*.jpg' ! -name '*.jpeg' ! -name '.*png' -delete"
      ],
      "metadata": {
        "id": "rYt2NZOs1RRN"
      },
      "execution_count": 3,
      "outputs": []
    },
    {
      "cell_type": "code",
      "source": [
        "# Directorio base\n",
        "data_dir = pathlib.Path('/content/drive/MyDrive/Reto_PyTorch/catsvsdogs')\n",
        "conteo_img = len(list(data_dir.glob('*/*')))\n",
        "print('Total de imágenes a analizar:', conteo_img)"
      ],
      "metadata": {
        "colab": {
          "base_uri": "https://localhost:8080/"
        },
        "id": "NLFn_Lcf2sAD",
        "outputId": "8f1da0f0-007d-40bd-c16a-6b104070c649"
      },
      "execution_count": 4,
      "outputs": [
        {
          "output_type": "stream",
          "name": "stdout",
          "text": [
            "Total de imágenes a analizar: 4895\n"
          ]
        }
      ]
    },
    {
      "cell_type": "code",
      "source": [
        "# Transformaciones\n",
        "transform = transforms.Compose([\n",
        "    # Ajustar tamaño de la imagen\n",
        "    transforms.Resize((224,224)),\n",
        "    # Transformar a tensor\n",
        "    transforms.ToTensor(),\n",
        "])"
      ],
      "metadata": {
        "id": "xoM2cdXL35rJ"
      },
      "execution_count": 5,
      "outputs": []
    },
    {
      "cell_type": "markdown",
      "source": [
        "### 1.2 Normalización de las imágenes"
      ],
      "metadata": {
        "id": "odL-EuHA66p_"
      }
    },
    {
      "cell_type": "code",
      "source": [
        "# Imagenes sin normalizar\n",
        "dataset = datasets.ImageFolder(data_dir, transform=transform)\n",
        "loader = DataLoader(dataset,batch_size=64,shuffle=False,num_workers=2)\n",
        "\n",
        "# Calculando promedio y desviación estándar\n",
        "mean = 0\n",
        "std = 0\n",
        "total_imgs = 0\n",
        "for images,_ in loader:\n",
        "    batch_samples = images.size(0)\n",
        "    images = images.view(batch_samples,images.size(1),-1) # (batch,canales,pixeles)\n",
        "    mean += images.mean(2).sum(0)\n",
        "    std += images.std(2).sum(0)\n",
        "    total_imgs += batch_samples\n",
        "mean = mean/total_imgs\n",
        "std = std/total_imgs\n",
        "print('Promedio:', mean)\n",
        "print('Desviación estándar:', std)"
      ],
      "metadata": {
        "colab": {
          "base_uri": "https://localhost:8080/"
        },
        "id": "T-XfZ7046_IC",
        "outputId": "85973620-3f69-4cc4-a2f1-70d7c1e33ee4"
      },
      "execution_count": null,
      "outputs": [
        {
          "output_type": "stream",
          "name": "stdout",
          "text": [
            "Promedio: tensor([0.4815, 0.4475, 0.3969])\n",
            "Desviación estándar: tensor([0.2255, 0.2230, 0.2250])\n"
          ]
        }
      ]
    },
    {
      "cell_type": "code",
      "source": [
        "# Transformación final\n",
        "transform = transforms.Compose([\n",
        "    # Ajustar tamaño de la imagen\n",
        "    transforms.Resize((224,224)),\n",
        "    # Transformar a tensor\n",
        "    transforms.ToTensor(),\n",
        "    # Normalizar\n",
        "    transforms.Normalize(mean = [0.4815,0.4475,0.3969],\n",
        "                        std = [0.2255,0.2230,0.2250])\n",
        "])\n"
      ],
      "metadata": {
        "id": "OrDEt6uHAtRP"
      },
      "execution_count": 6,
      "outputs": []
    },
    {
      "cell_type": "markdown",
      "source": [
        "## 2. Sets de Entrenamiento y Validación"
      ],
      "metadata": {
        "id": "P-B63pwb30G-"
      }
    },
    {
      "cell_type": "code",
      "source": [
        "# Dataset completo desde el directorio establecido\n",
        "dataset = datasets.ImageFolder(data_dir, transform=transform)\n",
        "\n",
        "# División: 80% entrenamiento, 20% validación\n",
        "train_size = int(0.8*len(dataset))\n",
        "val_size = len(dataset) - train_size\n",
        "\n",
        "train_set, val_set = random_split(dataset, [train_size, val_size])\n",
        "\n",
        "# Batch\n",
        "batch_size = 32\n",
        "train_loader = DataLoader(train_set,batch_size=batch_size,shuffle=True)\n",
        "val_loader = DataLoader(val_set,batch_size=batch_size,shuffle=False)\n",
        "\n",
        "# Tamaño de los sets\n",
        "print(f'Imágenes:',len(dataset))\n",
        "print(f'Entrenamiento', len(train_set))\n",
        "print(f'Validación', len(val_set))"
      ],
      "metadata": {
        "colab": {
          "base_uri": "https://localhost:8080/"
        },
        "id": "aEysQahz4vf5",
        "outputId": "c95f7694-1975-48dc-ee32-04d7f4d6f536"
      },
      "execution_count": 7,
      "outputs": [
        {
          "output_type": "stream",
          "name": "stdout",
          "text": [
            "Imágenes: 4895\n",
            "Entrenamiento 3916\n",
            "Validación 979\n"
          ]
        }
      ]
    },
    {
      "cell_type": "markdown",
      "source": [
        "## 3. Construcción de la Red Neuronal"
      ],
      "metadata": {
        "id": "QfMQAoa5FftT"
      }
    },
    {
      "cell_type": "code",
      "source": [
        "class MultiLayerPerceptron(nn.Module):\n",
        "    def __init__(self,input_size = 224*224*3,output_size = 2):\n",
        "        super().__init__()\n",
        "        self.fc1 = nn.Linear(input_size,512)\n",
        "        self.fc2 = nn.Linear(512,128)\n",
        "        self.fc3 = nn.Linear(128,64)\n",
        "        self.fc4 = nn.Linear(64,output_size)\n",
        "\n",
        "    def forward(self,X):\n",
        "        X = X.view(X.shape[0],-1)\n",
        "        X = F.relu(self.fc1(X))\n",
        "        X = F.relu(self.fc2(X))\n",
        "        X = F.relu(self.fc3(X))\n",
        "        X = self.fc4(X)\n",
        "        return X\n",
        "\n",
        " # Creando el modelo\n",
        "model = MultiLayerPerceptron()\n",
        "\n",
        "# Ver la estructura del modelo\n",
        "print(model)"
      ],
      "metadata": {
        "colab": {
          "base_uri": "https://localhost:8080/"
        },
        "id": "jfXr2ryuF_qZ",
        "outputId": "e954cfbb-6ce1-4b5e-fc42-86bf43ae3a7b"
      },
      "execution_count": 8,
      "outputs": [
        {
          "output_type": "stream",
          "name": "stdout",
          "text": [
            "MultiLayerPerceptron(\n",
            "  (fc1): Linear(in_features=150528, out_features=512, bias=True)\n",
            "  (fc2): Linear(in_features=512, out_features=128, bias=True)\n",
            "  (fc3): Linear(in_features=128, out_features=64, bias=True)\n",
            "  (fc4): Linear(in_features=64, out_features=2, bias=True)\n",
            ")\n"
          ]
        }
      ]
    },
    {
      "cell_type": "code",
      "source": [
        "# Definiendo pérdida y optimizador\n",
        "criterion = nn.CrossEntropyLoss()\n",
        "optimizer = torch.optim.Adam(model.parameters(),lr=0.001)\n",
        "\n",
        "# Mover a GPU si está disponible\n",
        "device = torch.device('cuda' if torch.cuda.is_available() else 'cpu')"
      ],
      "metadata": {
        "id": "hd4vC5ZAJWN6"
      },
      "execution_count": 10,
      "outputs": []
    },
    {
      "cell_type": "markdown",
      "source": [
        "## 4. Definición de Funciones Para Entrenamiento y Validación"
      ],
      "metadata": {
        "id": "gKJZwusiKNb8"
      }
    },
    {
      "cell_type": "markdown",
      "source": [
        "### 4.1 Función de Entrenamiento"
      ],
      "metadata": {
        "id": "1CMBmAjbAD7V"
      }
    },
    {
      "cell_type": "code",
      "source": [
        "# Función para entrenar\n",
        "def train(model,train_loader,criterion,optimizer,device):\n",
        "    # Modelo en modo entrenamiento\n",
        "    model.train()\n",
        "\n",
        "    # Mover medole a dispositivo especificado (GPU/CPU)\n",
        "    model.to(device)\n",
        "\n",
        "    # Valores para seguir el historial de pérdida y precisión\n",
        "    running_loss = 0\n",
        "    correct_predictions = 0\n",
        "    total_samples = 0\n",
        "\n",
        "    # Ciclo sobre el set de entrenamiento\n",
        "    for images,labels in train_loader:\n",
        "        # Mover a GPU/CPU\n",
        "        images,labels = images.to(device), labels.to(device)\n",
        "\n",
        "        # Reiniciar gradiente para prevenir acumulación\n",
        "        optimizer.zero_grad()\n",
        "\n",
        "        # Forward pass, obtener predicción\n",
        "        outputs = model(images)\n",
        "\n",
        "        # Calcular pérdida\n",
        "        loss = criterion(outputs,labels)\n",
        "\n",
        "        # Backward pass\n",
        "        loss.backward()\n",
        "\n",
        "        # Actualizar los parametros del modelo\n",
        "        optimizer.step()\n",
        "\n",
        "        # Acumulado de la pérdida\n",
        "        running_loss += loss.item()\n",
        "\n",
        "        # Obtener probabilidad maximo de la clase predicha\n",
        "        _, predicted = torch.max(outputs.data,dim = 1)\n",
        "\n",
        "        # Acumulado de predicciones correctas\n",
        "        correct_predictions += (predicted == labels).sum().item()\n",
        "\n",
        "        # Acumulado de muestras\n",
        "        total_samples += labels.size(0)\n",
        "\n",
        "    # Promedio de perdida\n",
        "    avg_loss = running_loss / len(train_loader)\n",
        "\n",
        "    # Precisión\n",
        "    accuracy = correct_predictions / total_samples\n",
        "\n",
        "    # Precisión (%)\n",
        "    accuracy = 100 * correct_predictions / total_samples\n",
        "\n",
        "    return avg_loss, accuracy\n"
      ],
      "metadata": {
        "id": "9Pdpx8cY5gMV"
      },
      "execution_count": 18,
      "outputs": []
    },
    {
      "cell_type": "markdown",
      "source": [
        "### 4.2 Validación de la Red *Neuronal*"
      ],
      "metadata": {
        "id": "Aa9-oAKx_mrA"
      }
    },
    {
      "cell_type": "code",
      "source": [
        "def validate(model,val_loader,criterion,device):\n",
        "    # Modelo en modo evaluación\n",
        "    model.eval()\n",
        "\n",
        "    # Mover medole a dispositivo especificado (GPU/CPU)\n",
        "    model.to(device)\n",
        "\n",
        "    running_loss = 0\n",
        "    correct_predictions = 0\n",
        "    total_samples = 0\n",
        "\n",
        "    # No calcular gradientes\n",
        "    with torch.no_grad():\n",
        "        for images,labels in val_loader:\n",
        "            # Mover a GPU/CPU\n",
        "            images,labels = images.to(device), labels.to(device)\n",
        "            outputs = model(images)\n",
        "            loss = criterion(outputs,labels)\n",
        "\n",
        "            running_loss += loss.item()\n",
        "            _, predicted = torch.max(outputs.data,dim = 1)\n",
        "            correct_predictions += (predicted == labels).sum().item()\n",
        "            total_samples += labels.size(0)\n",
        "\n",
        "    avg_loss = running_loss / len(val_loader)\n",
        "    accuracy = 100*correct_predictions / total_samples\n",
        "\n",
        "    return avg_loss, accuracy\n"
      ],
      "metadata": {
        "id": "1Tvecx3v_qck"
      },
      "execution_count": 19,
      "outputs": []
    },
    {
      "cell_type": "markdown",
      "source": [
        "## 5. Entrenamiento y Validación de la Red Neuronal"
      ],
      "metadata": {
        "id": "zd2O0DZRAYZf"
      }
    },
    {
      "cell_type": "markdown",
      "source": [
        "### 5.1 Entrenamiento"
      ],
      "metadata": {
        "id": "EWjw75eFT07j"
      }
    },
    {
      "cell_type": "code",
      "source": [
        "# Epochs\n",
        "num_epochs = 20\n",
        "train_losses, val_losses = [],[]\n",
        "train_accuracy, val_accuracy = [],[]\n",
        "\n",
        "# Entrenamiento\n",
        "for epoch in range(num_epochs):\n",
        "    train_loss, train_acc = train(model,train_loader,criterion,optimizer,device)\n",
        "    val_loss, val_acc = validate(model,val_loader,criterion,device)\n",
        "\n",
        "    train_losses.append(train_loss)\n",
        "    val_losses.append(val_loss)\n",
        "    train_accuracy.append(train_acc)\n",
        "    val_accuracy.append(val_acc)\n",
        "\n",
        "    print(f'Epoch {epoch +1}/{num_epochs}')\n",
        "    print(f' Train loss: {train_loss:.4f} | Train accuracy: {train_acc:.2f}%')\n",
        "    print(f' Val loss: {val_loss:.4f} | Val accuracy: {val_acc:.2f}%')\n"
      ],
      "metadata": {
        "colab": {
          "base_uri": "https://localhost:8080/"
        },
        "id": "8p3E3fGhAcrd",
        "outputId": "35b16320-9a8a-4caa-c79d-e39004a1b0f7"
      },
      "execution_count": 22,
      "outputs": [
        {
          "output_type": "stream",
          "name": "stdout",
          "text": [
            "Epoch 1/20\n",
            " Train loss: 1.2169 | Train accuracy: 54.80%\n",
            " Val loss: 0.8228 | Val accuracy: 54.55%\n",
            "Epoch 2/20\n",
            " Train loss: 0.6979 | Train accuracy: 62.00%\n",
            " Val loss: 0.7704 | Val accuracy: 57.41%\n",
            "Epoch 3/20\n",
            " Train loss: 0.6352 | Train accuracy: 66.62%\n",
            " Val loss: 0.8254 | Val accuracy: 56.28%\n",
            "Epoch 4/20\n",
            " Train loss: 0.6055 | Train accuracy: 69.31%\n",
            " Val loss: 0.8337 | Val accuracy: 57.30%\n",
            "Epoch 5/20\n",
            " Train loss: 0.5693 | Train accuracy: 71.99%\n",
            " Val loss: 0.7196 | Val accuracy: 58.73%\n",
            "Epoch 6/20\n",
            " Train loss: 0.5317 | Train accuracy: 73.60%\n",
            " Val loss: 0.7525 | Val accuracy: 58.32%\n",
            "Epoch 7/20\n",
            " Train loss: 0.4912 | Train accuracy: 76.61%\n",
            " Val loss: 0.8140 | Val accuracy: 61.70%\n",
            "Epoch 8/20\n",
            " Train loss: 0.4498 | Train accuracy: 78.86%\n",
            " Val loss: 0.8115 | Val accuracy: 60.57%\n",
            "Epoch 9/20\n",
            " Train loss: 0.4143 | Train accuracy: 82.18%\n",
            " Val loss: 0.8323 | Val accuracy: 62.10%\n",
            "Epoch 10/20\n",
            " Train loss: 0.4091 | Train accuracy: 82.38%\n",
            " Val loss: 0.9521 | Val accuracy: 58.43%\n",
            "Epoch 11/20\n",
            " Train loss: 0.3238 | Train accuracy: 85.34%\n",
            " Val loss: 0.9630 | Val accuracy: 61.18%\n",
            "Epoch 12/20\n",
            " Train loss: 0.3261 | Train accuracy: 85.32%\n",
            " Val loss: 1.0558 | Val accuracy: 61.29%\n",
            "Epoch 13/20\n",
            " Train loss: 0.3110 | Train accuracy: 87.28%\n",
            " Val loss: 1.1289 | Val accuracy: 60.06%\n",
            "Epoch 14/20\n",
            " Train loss: 0.2457 | Train accuracy: 90.09%\n",
            " Val loss: 1.1130 | Val accuracy: 61.90%\n",
            "Epoch 15/20\n",
            " Train loss: 0.2470 | Train accuracy: 90.04%\n",
            " Val loss: 1.2818 | Val accuracy: 62.10%\n",
            "Epoch 16/20\n",
            " Train loss: 0.2283 | Train accuracy: 91.42%\n",
            " Val loss: 1.2586 | Val accuracy: 61.59%\n",
            "Epoch 17/20\n",
            " Train loss: 0.1863 | Train accuracy: 92.95%\n",
            " Val loss: 1.5673 | Val accuracy: 60.78%\n",
            "Epoch 18/20\n",
            " Train loss: 0.2279 | Train accuracy: 91.55%\n",
            " Val loss: 1.2171 | Val accuracy: 58.43%\n",
            "Epoch 19/20\n",
            " Train loss: 0.1626 | Train accuracy: 93.51%\n",
            " Val loss: 1.6174 | Val accuracy: 62.21%\n",
            "Epoch 20/20\n",
            " Train loss: 0.1265 | Train accuracy: 95.33%\n",
            " Val loss: 1.7575 | Val accuracy: 61.90%\n"
          ]
        }
      ]
    },
    {
      "cell_type": "markdown",
      "source": [
        "### 5.2 Rendimiento de la Red Neuronal"
      ],
      "metadata": {
        "id": "hs7m4Md8FWaU"
      }
    },
    {
      "cell_type": "code",
      "source": [
        "plt.figure(figsize=(12,5))\n",
        "\n",
        "# Pérdida\n",
        "plt.subplot(1,2,1)\n",
        "plt.plot(train_losses,label='Entrenamiento')\n",
        "plt.plot(val_losses,label='Validación')\n",
        "plt.xlabel('Épocas')\n",
        "plt.ylabel('Pérdida')\n",
        "plt.xticks(rotation=90)\n",
        "plt.title('Pérdida de entrenamiento y validación')\n",
        "plt.legend()\n",
        "\n",
        "# Precisión\n",
        "plt.subplot(1,2,2)\n",
        "plt.plot(train_accuracy,label='Entrenamiento')\n",
        "plt.plot(val_accuracy,label='Validación')\n",
        "plt.xlabel('Épocas')\n",
        "plt.ylabel('Precisión')\n",
        "plt.xticks(rotation=90)\n",
        "plt.title('Precisión de entrenamiento y validación')\n",
        "plt.legend()\n",
        "\n",
        "plt.show()"
      ],
      "metadata": {
        "colab": {
          "base_uri": "https://localhost:8080/",
          "height": 493
        },
        "id": "axpJuoUiFaIX",
        "outputId": "69f6a710-236a-43fb-da10-8be346eac04f"
      },
      "execution_count": 23,
      "outputs": [
        {
          "output_type": "display_data",
          "data": {
            "text/plain": [
              "<Figure size 1200x500 with 2 Axes>"
            ],
            "image/png": "[encoded data removed]"
          },
          "metadata": {}
        }
      ]
    },
    {
      "cell_type": "markdown",
      "source": [
        "## 6. Optimización de la Red Neuronal Inicial"
      ],
      "metadata": {
        "id": "IEFelVfAU4FT"
      }
    },
    {
      "cell_type": "markdown",
      "source": [
        "### 6.1 Transformaciones para optimizar la red neuronal"
      ],
      "metadata": {
        "id": "XNc1yd_xo85j"
      }
    },
    {
      "cell_type": "code",
      "source": [
        "# Transformación final\n",
        "transform = transforms.Compose([\n",
        "    # Ajustar tamaño de la imagen\n",
        "    transforms.Resize((64,64)),\n",
        "    # Transformar a tensor\n",
        "    transforms.ToTensor(),\n",
        "    # Normalizar para que los valores se encuentren entre 0 y 1\n",
        "    transforms.Normalize(mean = [0.5,0.5,0.5],\n",
        "                        std = [0.5,0.5,0.5]),\n",
        "    # Data Augmentation\n",
        "    transforms.RandomHorizontalFlip(),\n",
        "    transforms.RandomRotation(10)\n",
        "])\n"
      ],
      "metadata": {
        "id": "1irZCVK3pE17"
      },
      "execution_count": 43,
      "outputs": []
    },
    {
      "cell_type": "markdown",
      "source": [
        "### 6.2 Sets de Entrenamiento y Validación"
      ],
      "metadata": {
        "id": "mFn8HAvqpjqd"
      }
    },
    {
      "cell_type": "code",
      "source": [
        "# Dataset completo desde el directorio establecido\n",
        "dataset = datasets.ImageFolder(data_dir, transform=transform)\n",
        "\n",
        "# División: 80% entrenamiento, 20% validación\n",
        "train_size = int(0.8*len(dataset))\n",
        "val_size = len(dataset) - train_size\n",
        "\n",
        "train_set, val_set = random_split(dataset, [train_size, val_size])\n",
        "\n",
        "# Batch\n",
        "batch_size = 32\n",
        "train_loader = DataLoader(train_set,batch_size=batch_size,shuffle=True)\n",
        "val_loader = DataLoader(val_set,batch_size=batch_size,shuffle=False)\n",
        "\n",
        "# Tamaño de los sets\n",
        "print(f'Imágenes:',len(dataset))\n",
        "print(f'Entrenamiento', len(train_set))\n",
        "print(f'Validación', len(val_set))"
      ],
      "metadata": {
        "colab": {
          "base_uri": "https://localhost:8080/"
        },
        "id": "hz7Eypb0pmiz",
        "outputId": "0d456f79-0d30-43d2-b937-8febd627f8ef"
      },
      "execution_count": 44,
      "outputs": [
        {
          "output_type": "stream",
          "name": "stdout",
          "text": [
            "Imágenes: 4895\n",
            "Entrenamiento 3916\n",
            "Validación 979\n"
          ]
        }
      ]
    },
    {
      "cell_type": "markdown",
      "source": [
        "### 6.3 Arquitectura de la Red Neuronal Optimizada"
      ],
      "metadata": {
        "id": "89sJG51IVMK1"
      }
    },
    {
      "cell_type": "code",
      "source": [
        "class MultiLayerPerceptron64(nn.Module):\n",
        "    def __init__(self, input_size=64*64*3, output_size=2):\n",
        "        super().__init__()\n",
        "        self.fc1 = nn.Linear(input_size, 512)\n",
        "        self.dropout1 = nn.Dropout(0.3)\n",
        "        self.fc2 = nn.Linear(512, 128)\n",
        "        self.dropout2 = nn.Dropout(0.3)\n",
        "        self.fc3 = nn.Linear(128, output_size)\n",
        "\n",
        "    def forward(self, X):\n",
        "        X = X.view(X.size(0),-1)\n",
        "        X = F.relu(self.fc1(X))\n",
        "        X = self.dropout1(X)\n",
        "        X = F.relu(self.fc2(X))\n",
        "        X = self.dropout2(X)\n",
        "        X = self.fc3(X)\n",
        "        return X\n",
        "\n",
        "# Creando modelo\n",
        "model_2 = MultiLayerPerceptron64()\n",
        "criterion = nn.CrossEntropyLoss()\n",
        "optimizer = torch.optim.Adam(model_2.parameters(),lr=0.0005)\n",
        "device = torch.device('cuda' if torch.cuda.is_available() else 'cpu')\n",
        "# Estructura del modelo\n",
        "print(model_2)"
      ],
      "metadata": {
        "colab": {
          "base_uri": "https://localhost:8080/"
        },
        "id": "P0_jT6CQVQ0y",
        "outputId": "c7233da3-8345-488d-9df8-84a1defd86c6"
      },
      "execution_count": 46,
      "outputs": [
        {
          "output_type": "stream",
          "name": "stdout",
          "text": [
            "MultiLayerPerceptron64(\n",
            "  (fc1): Linear(in_features=12288, out_features=512, bias=True)\n",
            "  (dropout1): Dropout(p=0.3, inplace=False)\n",
            "  (fc2): Linear(in_features=512, out_features=128, bias=True)\n",
            "  (dropout2): Dropout(p=0.3, inplace=False)\n",
            "  (fc3): Linear(in_features=128, out_features=2, bias=True)\n",
            ")\n"
          ]
        }
      ]
    },
    {
      "cell_type": "markdown",
      "source": [
        "## 7. Entrenamiento y Validación de la Red Neuronal Optimizada"
      ],
      "metadata": {
        "id": "oan9coc2Vk05"
      }
    },
    {
      "cell_type": "markdown",
      "source": [
        "### 7.1 Entrenamiento"
      ],
      "metadata": {
        "id": "r-fJlUKTVoSy"
      }
    },
    {
      "cell_type": "code",
      "source": [
        "# Entrenamiento\n",
        "for epoch in range(num_epochs):\n",
        "    train_loss2, train_acc2 = train(model_2,train_loader,criterion,optimizer,device)\n",
        "    val_loss2, val_acc2 = validate(model_2,val_loader,criterion,device)\n",
        "\n",
        "    train_losses.append(train_loss2)\n",
        "    val_losses.append(val_loss2)\n",
        "    train_accuracy.append(train_acc2)\n",
        "    val_accuracy.append(val_acc2)\n",
        "\n",
        "    print(f'Epoch {epoch +1}/{num_epochs}')\n",
        "    print(f' Train loss: {train_loss2:.4f} | Train accuracy: {train_acc2:.2f}%')\n",
        "    print(f' Val loss: {val_loss2:.4f} | Val accuracy: {val_acc2:.2f}%')\n"
      ],
      "metadata": {
        "colab": {
          "base_uri": "https://localhost:8080/"
        },
        "id": "Sga-vXa8Vp2h",
        "outputId": "4fa96e39-f5bd-4d43-e6fe-21a819f52487"
      },
      "execution_count": 47,
      "outputs": [
        {
          "output_type": "stream",
          "name": "stdout",
          "text": [
            "Epoch 1/20\n",
            " Train loss: 0.7394 | Train accuracy: 54.42%\n",
            " Val loss: 0.6907 | Val accuracy: 56.08%\n",
            "Epoch 2/20\n",
            " Train loss: 0.6877 | Train accuracy: 57.53%\n",
            " Val loss: 0.6730 | Val accuracy: 57.20%\n",
            "Epoch 3/20\n",
            " Train loss: 0.6658 | Train accuracy: 59.83%\n",
            " Val loss: 0.6597 | Val accuracy: 60.57%\n",
            "Epoch 4/20\n",
            " Train loss: 0.6545 | Train accuracy: 60.73%\n",
            " Val loss: 0.6467 | Val accuracy: 61.29%\n",
            "Epoch 5/20\n",
            " Train loss: 0.6477 | Train accuracy: 62.36%\n",
            " Val loss: 0.6767 | Val accuracy: 57.41%\n",
            "Epoch 6/20\n",
            " Train loss: 0.6414 | Train accuracy: 62.74%\n",
            " Val loss: 0.6686 | Val accuracy: 58.84%\n",
            "Epoch 7/20\n",
            " Train loss: 0.6300 | Train accuracy: 63.74%\n",
            " Val loss: 0.6538 | Val accuracy: 59.65%\n",
            "Epoch 8/20\n",
            " Train loss: 0.6365 | Train accuracy: 63.71%\n",
            " Val loss: 0.6493 | Val accuracy: 60.67%\n",
            "Epoch 9/20\n",
            " Train loss: 0.6319 | Train accuracy: 64.12%\n",
            " Val loss: 0.6449 | Val accuracy: 61.39%\n",
            "Epoch 10/20\n",
            " Train loss: 0.6223 | Train accuracy: 64.68%\n",
            " Val loss: 0.6479 | Val accuracy: 61.49%\n",
            "Epoch 11/20\n",
            " Train loss: 0.6182 | Train accuracy: 64.94%\n",
            " Val loss: 0.6487 | Val accuracy: 61.90%\n",
            "Epoch 12/20\n",
            " Train loss: 0.6150 | Train accuracy: 65.60%\n",
            " Val loss: 0.6456 | Val accuracy: 61.08%\n",
            "Epoch 13/20\n",
            " Train loss: 0.6111 | Train accuracy: 65.68%\n",
            " Val loss: 0.6639 | Val accuracy: 59.86%\n",
            "Epoch 14/20\n",
            " Train loss: 0.5995 | Train accuracy: 65.86%\n",
            " Val loss: 0.6542 | Val accuracy: 61.29%\n",
            "Epoch 15/20\n",
            " Train loss: 0.5989 | Train accuracy: 66.60%\n",
            " Val loss: 0.6422 | Val accuracy: 64.66%\n",
            "Epoch 16/20\n",
            " Train loss: 0.5921 | Train accuracy: 67.85%\n",
            " Val loss: 0.6633 | Val accuracy: 62.41%\n",
            "Epoch 17/20\n",
            " Train loss: 0.5928 | Train accuracy: 66.50%\n",
            " Val loss: 0.6811 | Val accuracy: 61.49%\n",
            "Epoch 18/20\n",
            " Train loss: 0.5845 | Train accuracy: 68.28%\n",
            " Val loss: 0.6453 | Val accuracy: 63.02%\n",
            "Epoch 19/20\n",
            " Train loss: 0.5778 | Train accuracy: 68.51%\n",
            " Val loss: 0.6511 | Val accuracy: 61.49%\n",
            "Epoch 20/20\n",
            " Train loss: 0.5759 | Train accuracy: 69.13%\n",
            " Val loss: 0.6466 | Val accuracy: 62.72%\n"
          ]
        }
      ]
    },
    {
      "cell_type": "markdown",
      "source": [
        "### 7.3 Rendimiento de la Red Neuronal Optimizada"
      ],
      "metadata": {
        "id": "k4jBSoqBW3Cu"
      }
    },
    {
      "cell_type": "code",
      "source": [
        "plt.figure(figsize=(12,5))\n",
        "\n",
        "# Pérdida\n",
        "plt.subplot(1,2,1)\n",
        "plt.plot(train_losses,label='Entrenamiento')\n",
        "plt.plot(val_losses,label='Validación')\n",
        "plt.xlabel('Épocas')\n",
        "plt.ylabel('Pérdida')\n",
        "plt.xticks(rotation=90)\n",
        "plt.title('Pérdida de entrenamiento y validación')\n",
        "plt.legend()\n",
        "\n",
        "# Precisión\n",
        "plt.subplot(1,2,2)\n",
        "plt.plot(train_accuracy,label='Entrenamiento')\n",
        "plt.plot(val_accuracy,label='Validación')\n",
        "plt.xlabel('Épocas')\n",
        "plt.ylabel('Precisión')\n",
        "plt.xticks(rotation=90)\n",
        "plt.title('Precisión de entrenamiento y validación')\n",
        "plt.legend()\n",
        "\n",
        "plt.show()"
      ],
      "metadata": {
        "colab": {
          "base_uri": "https://localhost:8080/",
          "height": 487
        },
        "id": "On6yr0lhW85G",
        "outputId": "272867dc-b679-424b-8cb7-b559985e4255"
      },
      "execution_count": 48,
      "outputs": [
        {
          "output_type": "display_data",
          "data": {
            "text/plain": [
              "<Figure size 1200x500 with 2 Axes>"
            ],
            "image/png": "[encoded data removed]"
          },
          "metadata": {}
        }
      ]
    }
  ]
}